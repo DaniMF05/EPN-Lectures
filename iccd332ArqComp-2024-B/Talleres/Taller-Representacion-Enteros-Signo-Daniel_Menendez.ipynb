{
 "cells": [
  {
   "cell_type": "markdown",
   "metadata": {},
   "source": [
    "<div align=\"center\">\n",
    "<h1>Arquitectura de Computadores</h1>\n",
    "<h2>Representación de Números Enteros con Signo</h2>\n",
    "</div>\n",
    "\n",
    "\n",
    "**Name:** Joshua Daniel Menendez Farias\n",
    "\n",
    "**Fecha:** 01-11-2024\n",
    "\n",
    "**Instrucciones**\n",
    "1. Utilice este cuaderno de Jupyter para completar la tabla con los valores obtenidos en clase para representar números enteros decimales con signo en:\n",
    "\n",
    "- Complemento a 1 (base disminuída)\n",
    "    - Complemento a 1 en binario: $Comp^1_{bin}$\n",
    "    - Complemento a 1 en hexadecimal: $Comp^1_{HEX}$\n",
    "- Complemento a 2 (base):\n",
    "    - $Comp^2_{bin}$\n",
    "    - $Comp^2_{HEX}$\n",
    "- Signo Magnitud:\n",
    "    - $SIGNO-MAG_{bin}$\n",
    "    - $SIGNO-MAG_{bin}$\n",
    "\n",
    "2. Guarde el cuaderno de Jupyter y suba el archivo *.ipynb\n",
    "3. Exporte el cuaderno de Jupyter a PDF y suba también el PDF\n",
    "\n",
    "\n",
    "Puede utilizar el resto del cuaderno para realizar cálculos de apoyo si requiere.\n",
    "\n",
    "\n"
   ]
  },
  {
   "cell_type": "markdown",
   "metadata": {},
   "source": [
    "Represente los siguientes números enteros con signo en sus equivalentes en complemento a 1, complemento a 2 y signo magnitud\n",
    "\n",
    "| DEC      |$Comp^1_{bin}$| $Comp^1_{HEX}$ | $Comp^2_{bin}$ | $Comp^2_{HEX}$ | $SIGNO-MAG_{bin}$ | $SIGNO-MAG_{hex}$ |\n",
    "|----------|--------------|----------------|----------------|----------------|-------------------|-------------------|\n",
    "| +9       |00001001      |0x09            |00001001        |0x09            |00001001           |0x09               |\n",
    "| -9       |11110110      |0XF6            |11110111        |0XF7            |10001001           |0X89               |\n",
    "| +52      |00110100      |0X34            |00110100        |0X34            |00110100           |0X34               |\n",
    "| -52      |11001011      |0XCB            |11001100        |0XCC            |10110100           |0XB4               |\n",
    "| +183     |Fuera de rango|Fuera de rango  |Fuera de rango  |Fuera de rango  |Fuera de rango     |Fuera de rango     |\n",
    "| -183     |Fuera de rango|Fuera de rango  |Fuera de rango  |Fuera de rango  |Fuera de rango     |Fuera de rango     |\n",
    "| +101     |01100101      |0X65            |01100101        |0X65            |01100101           |0X65               |\n",
    "| -101     |10011010      |0X9A            |10011010        |0X9B            |11100101           |0XE5               |\n",
    "| +200     |Fuera de rango|Fuera de rango  |Fuera de rango  |Fuera de rango  |Fuera de rango     |Fuera de rango     |\n",
    "| -200     |Fuera de rango|Fuera de rango  |Fuera de rango  |Fuera de rango  |Fuera de rango     |Fuera de rango     |\n",
    "| +128     |Fuera de rango|Fuera de rango  |Fuera de rango  |Fuera de rango  |Fuera de rango     |Fuera de rango     |\n",
    "| -128     |10000000      |0X80            |10000001        |0X81            |Fuera de rango     |Fuera de rango     |\n"
   ]
  }
 ],
 "metadata": {
  "kernelspec": {
   "display_name": "Python 3",
   "language": "python",
   "name": "python3"
  },
  "language_info": {
   "name": "python",
   "version": "3.11.9"
  }
 },
 "nbformat": 4,
 "nbformat_minor": 2
}
