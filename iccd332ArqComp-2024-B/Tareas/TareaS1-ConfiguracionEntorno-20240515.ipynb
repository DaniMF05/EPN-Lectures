{
 "cells": [
  {
   "cell_type": "markdown",
   "id": "7ee0ab64-395a-43a7-9af5-f281901a15c6",
   "metadata": {},
   "source": [
    "# Tarea Configuración de Entorno WSL\n",
    "\n",
    "## Asignatura ICCD332 Arquitectura de Computadores\n",
    "\n",
    "Nombre: Joshua Daniel Menendez Farias\n",
    "\n",
    "Fecha: 2024-10-28\n",
    "\n",
    "\n"
   ]
  },
  {
   "cell_type": "markdown",
   "id": "d7f81cd0-a514-450f-84af-aa36681a71aa",
   "metadata": {},
   "source": [
    "## Instalación de Entorno de Mamba/Anaconda\n",
    "\n",
    "1. Active WSL (Windows Subsystem for Linux) desde un terminal o desde la aplicación\n",
    "2. Ejecute el comando `mamba info`\n",
    "3. Coloque la captura respectiva en la imagen\n",
    "4. En caso de que `mamba info` sea rechazado, recuerde activar el entorno con `mamba activate`\n",
    "\n",
    "<img src=\"C:\\DANIMF\\WORKCENTER\\ARQUITECTURA DE COMPUTADORES\\EPN-Lectures\\iccd332ArqComp-2024-B\\images\\mamba.png\" width=\"800\" height=\"500\">"
   ]
  },
  {
   "cell_type": "markdown",
   "id": "ddde5b35",
   "metadata": {},
   "source": [
    "## Instalación de Python\n",
    "\n",
    "1. Active WSL (Windows Subsystem for Linux) desde un terminal o desde la aplicación\n",
    "2. Active el entorno creado *iccd332*: `mamba activate iccd332`\n",
    "3. Ejecute el comando `python --version`\n",
    "3. Coloque la captura respectiva en la imagen\n",
    "\n",
    "\n",
    "<img src=\"C:\\DANIMF\\WORKCENTER\\ARQUITECTURA DE COMPUTADORES\\EPN-Lectures\\iccd332ArqComp-2024-B\\images\\python.png\" width=\"800\" height=\"350\">"
   ]
  },
  {
   "cell_type": "markdown",
   "id": "963152dc",
   "metadata": {},
   "source": [
    "## Instalación de Emacs\n",
    "\n",
    "1. Active WSL (Windows Subsystem for Linux) desde un terminal o desde la aplicación\n",
    "2. Ejecute el comando `emacs --version`\n",
    "3. Coloque la captura respectiva en la imagen\n",
    "\n",
    "\n",
    "<img src=\"../images/emacsVersion.png\" width=\"800\" height=\"350\">"
   ]
  },
  {
   "cell_type": "markdown",
   "id": "da16f31c",
   "metadata": {},
   "source": [
    "## Instalación de Latex\n",
    "\n",
    "1. Active WSL (Windows Subsystem for Linux) desde un terminal o desde la aplicación\n",
    "2. Ejecute el comando `latex --version`\n",
    "3. Coloque la captura respectiva en la imagen\n",
    "\n",
    "\n",
    "<img src=\"../images/latexVersion.png\" width=\"800\" height=\"350\">"
   ]
  }
 ],
 "metadata": {
  "kernelspec": {
   "display_name": "tfwin",
   "language": "python",
   "name": "python3"
  },
  "language_info": {
   "codemirror_mode": {
    "name": "ipython",
    "version": 3
   },
   "file_extension": ".py",
   "mimetype": "text/x-python",
   "name": "python",
   "nbconvert_exporter": "python",
   "pygments_lexer": "ipython3",
   "version": "3.9.20"
  }
 },
 "nbformat": 4,
 "nbformat_minor": 5
}
